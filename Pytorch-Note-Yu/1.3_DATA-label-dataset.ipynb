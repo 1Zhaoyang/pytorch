{
 "cells": [
  {
   "cell_type": "markdown",
   "metadata": {},
   "source": [
    "Note: PyTorch模型训练实用教程(余霆嵩)\n",
    "----\n",
    "<https://github.com/tensor-yu/PyTorch_Tutorial>"
   ]
  },
  {
   "cell_type": "markdown",
   "metadata": {},
   "source": [
    "**1.3 让pytorch能读你的数据-1 制作图片的索引**"
   ]
  },
  {
   "cell_type": "code",
   "execution_count": 1,
   "metadata": {},
   "outputs": [
    {
     "data": {
      "text/plain": [
       "'\\n    为数据集生成对应的txt文件\\n'"
      ]
     },
     "execution_count": 1,
     "metadata": {},
     "output_type": "execute_result"
    }
   ],
   "source": [
    "import os\n",
    "'''\n",
    "    为数据集生成对应的txt文件\n",
    "'''"
   ]
  },
  {
   "cell_type": "code",
   "execution_count": 2,
   "metadata": {},
   "outputs": [],
   "source": [
    "train_txt_path = os.path.join(\"Data\", \"train.txt\")\n",
    "train_dir = os.path.join(\"Data\", \"train\")\n",
    "valid_txt_path = os.path.join(\"Data\", \"valid.txt\")\n",
    "valid_dir = os.path.join(\"Data\", \"valid\")"
   ]
  },
  {
   "cell_type": "code",
   "execution_count": 5,
   "metadata": {},
   "outputs": [],
   "source": [
    "def gen_txt(txt_path, img_dir):\n",
    "    f = open(txt_path,'w')\n",
    "    \n",
    "    for root, s_dirs, _ in os.walk(img_dir, topdown=True): #获取train文件夹下的各文件夹名称\n",
    "        for sub_dir in s_dirs: # 进入到每一个文件夹中，共10个\n",
    "            i_dir = os.path.join(root,sub_dir)\n",
    "            img_list = os.listdir(i_dir)\n",
    "            for i in range(len(img_list)):\n",
    "                if not img_list[i].endswith('png'): # 若不是png文件，跳过\n",
    "                    continue\n",
    "                label = img_list[i].split('_')[0]\n",
    "                img_path = os.path.join(i_dir, img_list[i])\n",
    "                line = img_path + ' '+label+ '\\n'\n",
    "                f.write(line)\n",
    "    f.close()\n",
    "\n",
    "if __name__ =='__main__':\n",
    "    gen_txt(train_txt_path, train_dir)\n",
    "    gen_txt(valid_txt_path, valid_dir)\n",
    "            "
   ]
  },
  {
   "cell_type": "markdown",
   "metadata": {},
   "source": [
    "**1.3 让pytorch能读你的数据-2 构建Dataset子类**"
   ]
  },
  {
   "cell_type": "code",
   "execution_count": 6,
   "metadata": {},
   "outputs": [],
   "source": [
    "from PIL import Image\n",
    "from torch.utils.data import Dataset"
   ]
  },
  {
   "cell_type": "code",
   "execution_count": 7,
   "metadata": {},
   "outputs": [],
   "source": [
    "class MyDataset(Dataset):\n",
    "    def __init__(self, txt_path, transform= None, target_transform=None):\n",
    "        fh = open(txt_path, 'r')\n",
    "        imgs = []\n",
    "        for line in fh:\n",
    "            line = line.rstrip()\n",
    "            words = line.split()\n",
    "            imgs.append((words[0], int(words[1])))\n",
    "        self.imgs = imgs # 最主要就是生成这个List, 然后DataLoader中给index, 然后通过getitem读取图片数据\n",
    "        self.transform = transform\n",
    "        self.target_transform = target_transform\n",
    "        \n",
    "    def __getitem__(self, index):\n",
    "        fn, label = self.imgs[index]\n",
    "        img = Image.open(fn).convert('RGB') # 像素值0~255， 在transform.totensor会除以255， 使像素值变成0~1\n",
    "        \n",
    "        if self.transform is not None:\n",
    "            img = self.transform(img) #在这里做transform, 转为tensor等等\n",
    "        return img, label\n",
    "    \n",
    "    def __len__(self):\n",
    "        return len(self.imgs)       \n",
    "        "
   ]
  }
 ],
 "metadata": {
  "kernelspec": {
   "display_name": "Python 3",
   "language": "python",
   "name": "python3"
  },
  "language_info": {
   "codemirror_mode": {
    "name": "ipython",
    "version": 3
   },
   "file_extension": ".py",
   "mimetype": "text/x-python",
   "name": "python",
   "nbconvert_exporter": "python",
   "pygments_lexer": "ipython3",
   "version": "3.7.3"
  }
 },
 "nbformat": 4,
 "nbformat_minor": 4
}
