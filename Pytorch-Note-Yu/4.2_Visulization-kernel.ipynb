{
 "cells": [
  {
   "cell_type": "markdown",
   "metadata": {},
   "source": [
    "Note: Pytorch模型训练实用教程（余霆嵩）\n",
    "----\n",
    "<https://github.com/tensor-yu/PyTorch_Tutorial>\n",
    "Chapter4: 监控模型——可视化\n",
    "---"
   ]
  },
  {
   "cell_type": "markdown",
   "metadata": {},
   "source": [
    "**4.2 卷积核可视化**   \n",
    "1. 可视化原理很简单，对单个卷积核进行“归一化”至0~255，然后将其展现出来即可。\n",
    "2. 这一系列操作可以借助TensorboardX的add_image来实现。"
   ]
  },
  {
   "cell_type": "code",
   "execution_count": 3,
   "metadata": {},
   "outputs": [],
   "source": [
    "import os\n",
    "import torch\n",
    "import torchvision.utils as vutils\n",
    "from tensorboardX import SummaryWriter\n",
    "import torch.nn as nn\n",
    "import torch.nn.functional as F"
   ]
  },
  {
   "cell_type": "code",
   "execution_count": 6,
   "metadata": {},
   "outputs": [
    {
     "name": "stdout",
     "output_type": "stream",
     "text": [
      "conv1.weight torch.Size([6, 3, 5, 5]) 0\n",
      "conv1.weight torch.Size([6, 3, 5, 5]) 1\n",
      "conv1.weight torch.Size([6, 3, 5, 5]) 2\n",
      "conv1.weight torch.Size([6, 3, 5, 5]) 3\n",
      "conv1.weight torch.Size([6, 3, 5, 5]) 4\n",
      "conv1.weight torch.Size([6, 3, 5, 5]) 5\n",
      "conv2.weight torch.Size([16, 6, 5, 5]) 0\n",
      "conv2.weight torch.Size([16, 6, 5, 5]) 1\n",
      "conv2.weight torch.Size([16, 6, 5, 5]) 2\n",
      "conv2.weight torch.Size([16, 6, 5, 5]) 3\n",
      "conv2.weight torch.Size([16, 6, 5, 5]) 4\n",
      "conv2.weight torch.Size([16, 6, 5, 5]) 5\n",
      "conv2.weight torch.Size([16, 6, 5, 5]) 6\n",
      "conv2.weight torch.Size([16, 6, 5, 5]) 7\n",
      "conv2.weight torch.Size([16, 6, 5, 5]) 8\n",
      "conv2.weight torch.Size([16, 6, 5, 5]) 9\n",
      "conv2.weight torch.Size([16, 6, 5, 5]) 10\n",
      "conv2.weight torch.Size([16, 6, 5, 5]) 11\n",
      "conv2.weight torch.Size([16, 6, 5, 5]) 12\n",
      "conv2.weight torch.Size([16, 6, 5, 5]) 13\n",
      "conv2.weight torch.Size([16, 6, 5, 5]) 14\n",
      "conv2.weight torch.Size([16, 6, 5, 5]) 15\n"
     ]
    }
   ],
   "source": [
    "# define the neural network\n",
    "class Net(nn.Module):\n",
    "    def __init__(self):\n",
    "        super(Net, self).__init__()\n",
    "        self.conv1 = nn.Conv2d(3,6,5)\n",
    "        self.pool1 = nn.MaxPool2d(2,2)\n",
    "        self.conv2 = nn.Conv2d(6,16,5)\n",
    "        self.pool2 = nn.MaxPool2d(2,2)\n",
    "        self.fc1 = nn.Linear(16 * 5 * 5, 120)\n",
    "        self.fc2 = nn.Linear(120, 84)\n",
    "        self.fc3 = nn.Linear(84, 10)\n",
    "        \n",
    "    def forward(self, x):\n",
    "        x = self.pool(F.relu(self.conv1(x)))\n",
    "        x = self.pool2(F.relu(self.conv2(x)))\n",
    "        x = x.view(-1, 16*5*5)\n",
    "        x = F.relu(self.fc1(x))\n",
    "        x = F.relu(self.fc2(x))\n",
    "        x = self.fc3(x)\n",
    "        return x\n",
    "    \n",
    "    #定义权值初始化\n",
    "    def initialize_weights(self):\n",
    "        for m in self.modules():\n",
    "            if isinstance(m, nn.Conv2d):\n",
    "                torch.nn.init.xavier_normal_(m.weight.data)\n",
    "                if m.bias is not None:\n",
    "                    m.bias.data.zero_()\n",
    "            elif isinstance(m, nn.BtachNorm2d):\n",
    "                m.weight.data.fill_(1)\n",
    "                m.bias.data.zero_()\n",
    "            elif isinstance(m, nn.Linear):\n",
    "                torch.nn.init.normal_(m.weight.data, 0, 0.01)\n",
    "                m.bias.data.zero_()\n",
    "                \n",
    "net = Net() # 创建一个网络\n",
    "pretrained_dict = torch.load(os.path.join(\"YuT\",\"2_model\", \"net_params.pkl\"))\n",
    "net.load_state_dict(pretrained_dict)\n",
    "\n",
    "writer = SummaryWriter(log_dir=os.path.join(\"Result\",\"visual_weights\"))\n",
    "params = net.state_dict()\n",
    "for k, v in params.items(): # k is the name of each layer; v is the value of weights and bias\n",
    "    if 'conv' in k and 'weight' in k:  # only convlutional layer and weight (not bias)\n",
    "        c_int = v.size()[1] # 输入层通道数\n",
    "        c_out = v.size()[0] # 输出层通道数\n",
    "        \n",
    "        # 以feature map为单位，绘制一组卷积核，一张feature map对应的卷积核个数为输入通道数\n",
    "        for j in range(c_out):\n",
    "            print(k, v.size(), j)\n",
    "            kernel_j = v[j,:,:,:].unsqueeze(1)  # 一个feature map对应的一组kernel。压缩维度，为make_grid制作输入\n",
    "            kernel_grid = vutils.make_grid(kernel_j, normalize=True, scale_each=True, nrow=c_int) \n",
    "            writer.add_image(k+ '_split_in_channel', kernel_grid, global_step=j) # j表示feature map数\n",
    "            \n",
    "        # 将一个卷积层的卷积核绘制在一起，每一行是一个feature map的卷积核\n",
    "        k_w, k_h = v.size()[-1], v.size()[-2]\n",
    "        kernel_all = v.view(-1, 1, k_w, k_h)\n",
    "        kernel_grid = vutils.make_grid(kernel_all, normalize=True, scale_each=True, nrow=c_int)  \n",
    "        # 1*输入通道数, w, h\n",
    "        writer.add_image(k + '_all', kernel_grid, global_step=666)\n",
    "writer.close()        "
   ]
  },
  {
   "cell_type": "markdown",
   "metadata": {},
   "source": [
    "**[1] 运行上述代码后，进入terminal, cd到/Result目录     \n",
    "[2] 执行 `tensorboard --logdir=visual_weights --port=6066`   \n",
    "[3] 进入浏览器查看**"
   ]
  }
 ],
 "metadata": {
  "kernelspec": {
   "display_name": "Python 3",
   "language": "python",
   "name": "python3"
  },
  "language_info": {
   "codemirror_mode": {
    "name": "ipython",
    "version": 3
   },
   "file_extension": ".py",
   "mimetype": "text/x-python",
   "name": "python",
   "nbconvert_exporter": "python",
   "pygments_lexer": "ipython3",
   "version": "3.7.3"
  }
 },
 "nbformat": 4,
 "nbformat_minor": 4
}
