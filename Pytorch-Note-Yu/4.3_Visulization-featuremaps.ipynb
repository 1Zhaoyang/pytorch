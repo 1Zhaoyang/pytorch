{
 "cells": [
  {
   "cell_type": "markdown",
   "metadata": {},
   "source": [
    "Note: Pytorch模型训练实用教程（余霆嵩）\n",
    "----\n",
    "<https://github.com/tensor-yu/PyTorch_Tutorial>\n",
    "Chapter4: 监控模型——可视化\n",
    "---"
   ]
  },
  {
   "cell_type": "markdown",
   "metadata": {},
   "source": [
    "**4.3 特征图可视化**    \n",
    "1. 获取图片，将其转换成图片输入前的数据格式，即一系列transform,   \n",
    "2. 获取模型各层操作，手动的执行每一层操作，拿到所需的feature maps,   \n",
    "3. 借助tensorboardX进行绘制   \n",
    "tips: 此处获取模型各层操作是__init__()中定义的操作，然而模型真实运行采用的是forward(),所以需要人工比对两者差异。本例的差异是，__init__()中缺少激活函数relu.  "
   ]
  },
  {
   "cell_type": "code",
   "execution_count": 3,
   "metadata": {},
   "outputs": [],
   "source": [
    "import os\n",
    "import torch\n",
    "import torchvision.utils as vutils\n",
    "import numpy as np\n",
    "from tensorboardX import SummaryWriter\n",
    "import torch.nn.functional as F\n",
    "import torchvision.transforms as transforms\n",
    "import sys\n",
    "sys.path.append(\"..\")\n",
    "from utils.utils import MyDataset, Net, normalize_invert\n",
    "from torch.utils.data import DataLoader  "
   ]
  },
  {
   "cell_type": "code",
   "execution_count": 30,
   "metadata": {},
   "outputs": [
    {
     "name": "stdout",
     "output_type": "stream",
     "text": [
      "Data\\train.txt\n"
     ]
    }
   ],
   "source": [
    "vis_layer = 'conv1'\n",
    "log_dir = os.path.join(\"Result\", \"visual_featuremaps\")\n",
    "txt_path = os.path.join(\"Data\", \"train.txt\") #读取数据的文本\n",
    "pretrained_path = os.path.join(\"YuT\",\"2_model\",\"net_params.pkl\")\n",
    "\n",
    "net= Net()\n",
    "pretrained_dict = torch.load(pretrained_path)\n",
    "net.load_state_dict(pretrained_dict)\n",
    "print(txt_path)"
   ]
  },
  {
   "cell_type": "code",
   "execution_count": 31,
   "metadata": {},
   "outputs": [],
   "source": [
    "# 数据预处理\n",
    "normMean = [0.49139968, 0.48215827, 0.44653124]\n",
    "normStd = [0.24703233, 0.24348505, 0.26158768]\n",
    "normTransform = transforms.Normalize(normMean, normStd)\n",
    "testTransform = transforms.Compose([\n",
    "    transforms.Resize((32,32)),\n",
    "    transforms.ToTensor(),\n",
    "    normTransform\n",
    "])\n",
    "# 载入数据\n",
    "test_data = MyDataset(txt_path=txt_path, transform=testTransform)\n",
    "test_loader = DataLoader(dataset = test_data, batch_size=1) # 划分了batchsize=1\n",
    "img, label = iter(test_loader).next() # 只取出了一个batch， 也就是一张图片。"
   ]
  },
  {
   "cell_type": "code",
   "execution_count": 37,
   "metadata": {},
   "outputs": [
    {
     "name": "stdout",
     "output_type": "stream",
     "text": [
      "torch.Size([1, 6, 28, 28])\n",
      "torch.Size([1, 6, 14, 14])\n",
      "torch.Size([1, 16, 10, 10])\n",
      "torch.Size([1, 16, 5, 5])\n",
      "torch.Size([1, 120])\n",
      "torch.Size([1, 84])\n",
      "torch.Size([1, 10])\n"
     ]
    }
   ],
   "source": [
    "x = img\n",
    "writer = SummaryWriter(log_dir=log_dir)\n",
    "for name, layer in net._modules.items():\n",
    "    # 为fc层预处理x\n",
    "    x = x.view(x.size(0),-1) if 'fc' in name else x\n",
    "    #对x执行单层运算\n",
    "    x = layer(x)\n",
    "    print(x.size())\n",
    "    # 由于__init()相较于forward()缺少relu操作，需要手动增加\n",
    "    x = F.relu(x) if 'conv' in name else x\n",
    "    # 依据选择的层，进行记录feature maps\n",
    "    if name == vis_layer:\n",
    "        # 绘制feature maps\n",
    "        x1 = x.transpose(0,1) # C,B,H,W ---> B, C,H,W\n",
    "        img_grid = vutils.make_grid(x1, normalize = True, scale_each = True, nrow=2)\n",
    "        writer.add_image(vis_layer + '_feature_maps', img_grid, global_step=666)\n",
    "        \n",
    "        #绘制原始图像\n",
    "        img_raw = normalize_invert(img, normMean, normStd) # 图像标准化\n",
    "       # img_raw = np.array(img_raw *255).clip(0,255).squeeze().astype('uint8') # 这是灰色的\n",
    "        img_raw = np.array(img_raw *255).squeeze() # 正常的颜色了\n",
    "        writer.add_image('raw img', img_raw, global_step=666) \n",
    "writer.close()"
   ]
  },
  {
   "cell_type": "code",
   "execution_count": null,
   "metadata": {},
   "outputs": [],
   "source": []
  }
 ],
 "metadata": {
  "kernelspec": {
   "display_name": "Python 3",
   "language": "python",
   "name": "python3"
  },
  "language_info": {
   "codemirror_mode": {
    "name": "ipython",
    "version": 3
   },
   "file_extension": ".py",
   "mimetype": "text/x-python",
   "name": "python",
   "nbconvert_exporter": "python",
   "pygments_lexer": "ipython3",
   "version": "3.7.3"
  }
 },
 "nbformat": 4,
 "nbformat_minor": 4
}
