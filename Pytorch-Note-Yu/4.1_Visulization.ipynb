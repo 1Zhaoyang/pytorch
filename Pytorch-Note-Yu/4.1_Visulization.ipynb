{
 "cells": [
  {
   "cell_type": "markdown",
   "metadata": {},
   "source": [
    "Note: Pytorch模型训练实用教程（余霆嵩）\n",
    "----\n",
    "<https://github.com/tensor-yu/PyTorch_Tutorial>\n",
    "Chapter4: 监控模型——可视化\n",
    "---"
   ]
  },
  {
   "cell_type": "markdown",
   "metadata": {},
   "source": [
    "**4.1 TensorBoardX**   \n",
    "1. github:<https://github.com/lanpa/tensorboardX>   \n",
    "2. API文档：<https://tensorboardPyTorch.readthedocs.io/en/latest/tutorial_zh.html#>\n",
    "3. tensordoardX 提供13个函数，可以记录标量、图像、语音、文字等等，功能十分丰富。"
   ]
  },
  {
   "cell_type": "markdown",
   "metadata": {},
   "source": [
    "**运行如下tensorboardX的官方demo.py**"
   ]
  },
  {
   "cell_type": "code",
   "execution_count": 1,
   "metadata": {},
   "outputs": [],
   "source": [
    "# coding: utf-8\n",
    "import os\n",
    "import torch\n",
    "import torchvision.utils as vutils\n",
    "import numpy as np\n",
    "import torchvision.models as models\n",
    "from torchvision import datasets\n",
    "from tensorboardX import SummaryWriter\n",
    "\n",
    "resnet18 = models.resnet18(False)\n",
    "writer = SummaryWriter(os.path.join(\"Result\", \"runs\"))\n",
    "sample_rate = 44100\n",
    "freqs = [262, 294, 330, 349, 392, 440, 440, 440, 440, 440, 440]\n",
    "\n",
    "true_positive_counts = [75, 64, 21, 5, 0]\n",
    "false_positive_counts = [150, 105, 18, 0, 0]\n",
    "true_negative_counts = [0, 45, 132, 150, 150]\n",
    "false_negative_counts = [0, 11, 54, 70, 75]\n",
    "precision = [0.3333333, 0.3786982, 0.5384616, 1.0, 0.0]\n",
    "recall = [1.0, 0.8533334, 0.28, 0.0666667, 0.0]"
   ]
  },
  {
   "cell_type": "code",
   "execution_count": 2,
   "metadata": {},
   "outputs": [],
   "source": [
    "for n_iter in range(100):\n",
    "    s1 = torch.rand(1)  # value to keep\n",
    "    s2 = torch.rand(1)\n",
    "    # data grouping by `slash`\n",
    "    writer.add_scalar(os.path.join(\"data\", \"scalar_systemtime\"), s1[0], n_iter)\n",
    "    # data grouping by `slash`\n",
    "    writer.add_scalar(os.path.join(\"data\", \"scalar_customtime\"), s1[0], n_iter, walltime=n_iter)\n",
    "    writer.add_scalars(os.path.join(\"data\", \"scalar_group\"), {\"xsinx\": n_iter * np.sin(n_iter),\n",
    "                                             \"xcosx\": n_iter * np.cos(n_iter),\n",
    "                                             \"arctanx\": np.arctan(n_iter)}, n_iter)\n",
    "    x = torch.rand(32, 3, 64, 64)  # output from network\n",
    "    if n_iter % 10 == 0:\n",
    "        x = vutils.make_grid(x, normalize=True, scale_each=True)\n",
    "        writer.add_image('Image', x, n_iter)  # Tensor\n",
    "        # writer.add_image('astronaut', skimage.data.astronaut(), n_iter) # numpy\n",
    "        # writer.add_image('imread',\n",
    "        # skimage.io.imread('screenshots/audio.png'), n_iter) # numpy\n",
    "        x = torch.zeros(sample_rate * 2)\n",
    "        for i in range(x.size(0)):\n",
    "            # sound amplitude should in [-1, 1]\n",
    "            x[i] = np.cos(freqs[n_iter // 10] * np.pi *\n",
    "                          float(i) / float(sample_rate))\n",
    "        writer.add_audio('myAudio', x, n_iter)\n",
    "        writer.add_text('Text', 'text logged at step:' + str(n_iter), n_iter)\n",
    "        writer.add_text('markdown Text', '''a|b\\n-|-\\nc|d''', n_iter)\n",
    "        for name, param in resnet18.named_parameters():\n",
    "            if 'bn' not in name:\n",
    "                writer.add_histogram(name, param, n_iter)\n",
    "        writer.add_pr_curve('xoxo', np.random.randint(2, size=100), np.random.rand(\n",
    "            100), n_iter)  # needs tensorboard 0.4RC or later\n",
    "        writer.add_pr_curve_raw('prcurve with raw data', true_positive_counts,\n",
    "                                false_positive_counts,\n",
    "                                true_negative_counts,\n",
    "                                false_negative_counts,\n",
    "                                precision,\n",
    "                                recall, n_iter)"
   ]
  },
  {
   "cell_type": "code",
   "execution_count": 5,
   "metadata": {},
   "outputs": [
    {
     "name": "stdout",
     "output_type": "stream",
     "text": [
      "Downloading http://yann.lecun.com/exdb/mnist/train-images-idx3-ubyte.gz to Data\\mnist\\MNIST\\raw\\train-images-idx3-ubyte.gz\n"
     ]
    },
    {
     "name": "stderr",
     "output_type": "stream",
     "text": [
      "9920512it [00:05, 1701730.89it/s]                                                                                      \n"
     ]
    },
    {
     "name": "stdout",
     "output_type": "stream",
     "text": [
      "Extracting Data\\mnist\\MNIST\\raw\\train-images-idx3-ubyte.gz to Data\\mnist\\MNIST\\raw\n",
      "Downloading http://yann.lecun.com/exdb/mnist/train-labels-idx1-ubyte.gz to Data\\mnist\\MNIST\\raw\\train-labels-idx1-ubyte.gz\n"
     ]
    },
    {
     "name": "stderr",
     "output_type": "stream",
     "text": [
      "32768it [00:00, 81357.61it/s]                                                                                          \n"
     ]
    },
    {
     "name": "stdout",
     "output_type": "stream",
     "text": [
      "Extracting Data\\mnist\\MNIST\\raw\\train-labels-idx1-ubyte.gz to Data\\mnist\\MNIST\\raw\n",
      "Downloading http://yann.lecun.com/exdb/mnist/t10k-images-idx3-ubyte.gz to Data\\mnist\\MNIST\\raw\\t10k-images-idx3-ubyte.gz\n"
     ]
    },
    {
     "name": "stderr",
     "output_type": "stream",
     "text": [
      "1654784it [00:01, 1469497.14it/s]                                                                                      \n"
     ]
    },
    {
     "name": "stdout",
     "output_type": "stream",
     "text": [
      "Extracting Data\\mnist\\MNIST\\raw\\t10k-images-idx3-ubyte.gz to Data\\mnist\\MNIST\\raw\n",
      "Downloading http://yann.lecun.com/exdb/mnist/t10k-labels-idx1-ubyte.gz to Data\\mnist\\MNIST\\raw\\t10k-labels-idx1-ubyte.gz\n"
     ]
    },
    {
     "name": "stderr",
     "output_type": "stream",
     "text": [
      "8192it [00:00, 17686.23it/s]                                                                                           \n"
     ]
    },
    {
     "name": "stdout",
     "output_type": "stream",
     "text": [
      "Extracting Data\\mnist\\MNIST\\raw\\t10k-labels-idx1-ubyte.gz to Data\\mnist\\MNIST\\raw\n",
      "Processing...\n",
      "Done!\n",
      "warning: Embedding dir exists, did you set global_step for add_embedding()?\n",
      "warning: Embedding dir exists, did you set global_step for add_embedding()?\n",
      "warning: Embedding dir exists, did you set global_step for add_embedding()?\n"
     ]
    }
   ],
   "source": [
    "# export scalar data to JSON for external processing\n",
    "writer.export_scalars_to_json(os.path.join(\"Result\", \"all_scalars.json\"))\n",
    "\n",
    "dataset = datasets.MNIST(os.path.join( \"Data\", \"mnist\"), train=False, download=True)\n",
    "images = dataset.test_data[:100].float()\n",
    "label = dataset.test_labels[:100]\n",
    "features = images.view(100, 784)\n",
    "writer.add_embedding(features, metadata=label, label_img=images.unsqueeze(1))\n",
    "writer.add_embedding(features, global_step=1, tag='noMetadata')\n",
    "dataset = datasets.MNIST(os.path.join(\"Data\", \"mnist\"), train=True, download=True)\n",
    "images_train = dataset.train_data[:100].float()\n",
    "labels_train = dataset.train_labels[:100]\n",
    "features_train = images_train.view(100, 784)\n",
    "\n",
    "all_features = torch.cat((features, features_train))\n",
    "all_labels = torch.cat((label, labels_train))\n",
    "all_images = torch.cat((images, images_train))\n",
    "dataset_label = ['test'] * 100 + ['train'] * 100\n",
    "all_labels = list(zip(all_labels, dataset_label))\n",
    "\n",
    "writer.add_embedding(all_features, metadata=all_labels, label_img=all_images.unsqueeze(1),\n",
    "                     metadata_header=['digit', 'dataset'], global_step=2)"
   ]
  },
  {
   "cell_type": "code",
   "execution_count": 6,
   "metadata": {},
   "outputs": [
    {
     "name": "stdout",
     "output_type": "stream",
     "text": [
      "add_video needs package moviepy\n",
      "add_video needs package moviepy\n"
     ]
    }
   ],
   "source": [
    "# VIDEO\n",
    "vid_images = dataset.train_data[:16 * 48]\n",
    "vid = vid_images.view(16, 1, 48, 28, 28)  # BxCxTxHxW\n",
    "\n",
    "writer.add_video('video', vid_tensor=vid)\n",
    "writer.add_video('video_1_fps', vid_tensor=vid, fps=1)\n",
    "\n",
    "writer.close()"
   ]
  }
 ],
 "metadata": {
  "kernelspec": {
   "display_name": "Python 3",
   "language": "python",
   "name": "python3"
  },
  "language_info": {
   "codemirror_mode": {
    "name": "ipython",
    "version": 3
   },
   "file_extension": ".py",
   "mimetype": "text/x-python",
   "name": "python",
   "nbconvert_exporter": "python",
   "pygments_lexer": "ipython3",
   "version": "3.7.3"
  }
 },
 "nbformat": 4,
 "nbformat_minor": 4
}
