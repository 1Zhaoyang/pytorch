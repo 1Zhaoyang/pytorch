{
 "cells": [
  {
   "cell_type": "markdown",
   "metadata": {},
   "source": [
    "Note: PyTorch模型训练实用教程(余霆嵩)\n",
    "----\n",
    "<https://github.com/tensor-yu/PyTorch_Tutorial>"
   ]
  },
  {
   "cell_type": "markdown",
   "metadata": {},
   "source": [
    "**1.1 cifar10 转 png**"
   ]
  },
  {
   "cell_type": "code",
   "execution_count": null,
   "metadata": {},
   "outputs": [],
   "source": [
    "# coding: utf-8\n",
    "\"\"\"\n",
    "    将cifar10的data_batch_12345 转换成png格式的图片\n",
    "    每个类别单独存放在一个文件夹，文件夹名称为0-9\n",
    "\"\"\""
   ]
  },
  {
   "cell_type": "code",
   "execution_count": 2,
   "metadata": {},
   "outputs": [],
   "source": [
    "from scipy.misc import imsave\n",
    "import numpy as np\n",
    "import os\n",
    "import pickle"
   ]
  },
  {
   "cell_type": "code",
   "execution_count": 13,
   "metadata": {},
   "outputs": [],
   "source": [
    "data_dir = os.path.join(\"Data\",\"cifar-10-batches-py\")\n",
    "train_o_dir = os.path.join(\"Data\",\"cifar-10-png\",\"raw_train\")\n",
    "test_o_dir = os.path.join(\"Data\",\"cifar-10-png\", \"raw_test\")\n",
    "Train = False"
   ]
  },
  {
   "cell_type": "code",
   "execution_count": 10,
   "metadata": {},
   "outputs": [
    {
     "name": "stdout",
     "output_type": "stream",
     "text": [
      "..\\Data\\cifar-10-png\\raw_train\n"
     ]
    }
   ],
   "source": [
    "print(train_o_dir)"
   ]
  },
  {
   "cell_type": "code",
   "execution_count": 11,
   "metadata": {},
   "outputs": [],
   "source": [
    "#解压缩，返回解压后的字典\n",
    "def unpickle(file):\n",
    "    with open(file, 'rb') as fo:\n",
    "        dict_ = pickle.load(fo, encoding = 'bytes')\n",
    "    return dict_\n",
    "\n",
    "def my_mkdir(my_dir):\n",
    "    if not os.path.isdir(my_dir):\n",
    "        os.makedirs(my_dir)"
   ]
  },
  {
   "cell_type": "code",
   "execution_count": 14,
   "metadata": {},
   "outputs": [
    {
     "name": "stdout",
     "output_type": "stream",
     "text": [
      "test_batch is loading ...\n"
     ]
    },
    {
     "name": "stderr",
     "output_type": "stream",
     "text": [
      "C:\\Users\\pangz\\Anaconda3\\lib\\site-packages\\ipykernel_launcher.py:36: DeprecationWarning: `imsave` is deprecated!\n",
      "`imsave` is deprecated in SciPy 1.0.0, and will be removed in 1.2.0.\n",
      "Use ``imageio.imwrite`` instead.\n"
     ]
    },
    {
     "name": "stdout",
     "output_type": "stream",
     "text": [
      "test_batch loaded\n"
     ]
    }
   ],
   "source": [
    "# 生成训练集图片\n",
    "if __name__ == '__main__':\n",
    "    if Train:\n",
    "        for j in range(1,6):\n",
    "            data_path = os.path.join(data_dir, \"data_batch_\" + str(j)) # data_batch_12345\n",
    "            train_data = unpickle(data_path)\n",
    "            print(data_path + \"is loading...\")\n",
    "            \n",
    "            for i in range(0, 10000):\n",
    "                img = np.reshape(train_data[b'data'][i], (3, 32,32))\n",
    "                img = img.transpose(1,2,0)\n",
    "                \n",
    "                label_num = str(train_data[b'labels'][i])\n",
    "                o_dir = os.path.join(train_o_dir, label_num)\n",
    "                my_mkdir(o_dir)\n",
    "                \n",
    "                img_name = label_num + '_' + str(i + (j-1)*10000) + '.png'\n",
    "                img_path = os.path.join(o_dir, img_name)\n",
    "                imsave(data_path + \"loaded.\")\n",
    "                \n",
    "    print(\"test_batch is loading ...\")\n",
    "    \n",
    "    #生成测试集图片\n",
    "    test_data_path = os.path.join(data_dir, \"test_batch\")\n",
    "    test_data = unpickle(test_data_path)\n",
    "    for i in range(0,10000):\n",
    "        img = np.reshape(test_data[b'data'][i],(3, 32, 32))\n",
    "        img = img.transpose (1,2,0)\n",
    "        \n",
    "        label_num = str(test_data[b'labels'][i])\n",
    "        o_dir = os.path.join(test_o_dir, label_num)\n",
    "        my_mkdir(o_dir)\n",
    "        \n",
    "        img_name = label_num + '_' + str(i) + '.png'\n",
    "        img_path = os.path.join(o_dir, img_name)\n",
    "        imsave(img_path, img)\n",
    "    \n",
    "    print(\"test_batch loaded\")"
   ]
  },
  {
   "cell_type": "code",
   "execution_count": null,
   "metadata": {},
   "outputs": [],
   "source": []
  }
 ],
 "metadata": {
  "kernelspec": {
   "display_name": "Python 3",
   "language": "python",
   "name": "python3"
  },
  "language_info": {
   "codemirror_mode": {
    "name": "ipython",
    "version": 3
   },
   "file_extension": ".py",
   "mimetype": "text/x-python",
   "name": "python",
   "nbconvert_exporter": "python",
   "pygments_lexer": "ipython3",
   "version": "3.7.3"
  }
 },
 "nbformat": 4,
 "nbformat_minor": 4
}
